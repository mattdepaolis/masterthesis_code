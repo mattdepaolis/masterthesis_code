{
 "cells": [
  {
   "cell_type": "code",
   "execution_count": null,
   "id": "e38d3e35",
   "metadata": {},
   "outputs": [],
   "source": [
    "#------------------------------------------------------------------------------------\n",
    "# filename: 4_convert_png_to_jpg.ipynb\n",
    "# description: convert images from png format to jpg format\n",
    "# Author: Matthias De Paolis\n",
    "# last updated: 29.2.23\n",
    "#------------------------------------------------------------------------------------\n",
    "import dask.bag as db\n",
    "from PIL import Image\n",
    "import os\n",
    "\n",
    "# source and destination folder\n",
    "src_dir = '../../_data/_detection_images/yolo/solar_panel_images_3'\n",
    "dst_dir = '../../_data/_detection_images/yolo/solar_panel_images_3_jpg'\n",
    "\n",
    "# Create the destination directory if not already exist\n",
    "if not os.path.exists(dst_dir):\n",
    "    os.makedirs(dst_dir)\n",
    "\n",
    "# Get a list of all PNG files in the source directory\n",
    "png_files = db.from_sequence(os.listdir(src_dir)).filter(lambda f: f.endswith(\".png\"))\n",
    "\n",
    "# convert a PNG file to JPEG format and save it to the destination folder\n",
    "def convert_and_save(file):\n",
    "    # Open the PNG image using Pillow\n",
    "    png_path = os.path.join(src_dir, file)\n",
    "    png_img = Image.open(png_path)\n",
    "\n",
    "    # convert the PNG image to JPEG format\n",
    "    jpeg_img = png_img.convert(\"RGB\")\n",
    "\n",
    "    # save the JPEG image to the destination folder\n",
    "    jpeg_filename = os.path.splitext(file)[0] + \".jpg\"\n",
    "    jpeg_path = os.path.join(dst_dir, jpeg_filename)\n",
    "    jpeg_img.save(jpeg_path, \"JPEG\")\n",
    "\n",
    "# Use Dask to convert and save all PNG files in parallel\n",
    "png_files.map(convert_and_save).compute()"
   ]
  }
 ],
 "metadata": {
  "kernelspec": {
   "display_name": "Python 3 (ipykernel)",
   "language": "python",
   "name": "python3"
  },
  "language_info": {
   "codemirror_mode": {
    "name": "ipython",
    "version": 3
   },
   "file_extension": ".py",
   "mimetype": "text/x-python",
   "name": "python",
   "nbconvert_exporter": "python",
   "pygments_lexer": "ipython3",
   "version": "3.9.10"
  },
  "toc": {
   "base_numbering": 1,
   "nav_menu": {},
   "number_sections": true,
   "sideBar": true,
   "skip_h1_title": false,
   "title_cell": "Table of Contents",
   "title_sidebar": "Contents",
   "toc_cell": false,
   "toc_position": {},
   "toc_section_display": true,
   "toc_window_display": false
  }
 },
 "nbformat": 4,
 "nbformat_minor": 5
}
