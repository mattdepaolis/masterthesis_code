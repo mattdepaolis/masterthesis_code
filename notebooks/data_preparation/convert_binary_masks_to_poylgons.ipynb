{
 "cells": [
  {
   "cell_type": "code",
   "execution_count": 1,
   "id": "9005af07",
   "metadata": {},
   "outputs": [],
   "source": [
    "#--------------------------------------------------------------------------------------------------------\n",
    "# filename: convert_binary_masks_to_poylgons.ipynb\n",
    "# description: converts annotated binary masks txt files\n",
    "# Author: Matthias De Paolis\n",
    "# last updated: 02.07.23\n",
    "#--------------------------------------------------------------------------------------------------------\n",
    "#------------------------------------------------------#\n",
    "#  THIS SECTION WAS CREATED BY CHATGPT (OpenAi, 2023) #\n",
    "#----------------------------------------------------#\n",
    "import os\n",
    "import cv2\n",
    "\n",
    "input_dir = \"../../_data/_segmentation_images/yolo/data_pv_seg_1250_374/masks\"\n",
    "output_dir = \"../../_data/_segmentation_images/yolo/data_pv_seg_1250_374/labels\"\n",
    "\n",
    "for j in os.listdir(input_dir):\n",
    "    image_path = os.path.join(input_dir, j)\n",
    "    # load the binary mask and get its contours\n",
    "    mask = cv2.imread(image_path, cv2.IMREAD_GRAYSCALE)\n",
    "    _, mask = cv2.threshold(mask, 1, 255, cv2.THRESH_BINARY)\n",
    "\n",
    "    H, W = mask.shape\n",
    "    contours, hierarchy = cv2.findContours(mask, cv2.RETR_EXTERNAL, cv2.CHAIN_APPROX_SIMPLE)\n",
    "\n",
    "    # convert the contours to polygons\n",
    "    polygons = []\n",
    "    for cnt in contours:\n",
    "        if cv2.contourArea(cnt) > 200:\n",
    "            polygon = []\n",
    "            for point in cnt:\n",
    "                x, y = point[0]\n",
    "                polygon.append(x / W)\n",
    "                polygon.append(y / H)\n",
    "            polygons.append(polygon)\n",
    "\n",
    "    # print the polygons\n",
    "    with open('{}.txt'.format(os.path.join(output_dir, j)[:-4]), 'w') as f:\n",
    "        for polygon in polygons:\n",
    "            for p_, p in enumerate(polygon):\n",
    "                if p_ == len(polygon) - 1:\n",
    "                    f.write('{}\\n'.format(p))\n",
    "                elif p_ == 0:\n",
    "                    f.write('0 {} '.format(p))\n",
    "                else:\n",
    "                    f.write('{} '.format(p))\n",
    "\n",
    "        f.close()"
   ]
  }
 ],
 "metadata": {
  "kernelspec": {
   "display_name": "Python 3 (ipykernel)",
   "language": "python",
   "name": "python3"
  },
  "language_info": {
   "codemirror_mode": {
    "name": "ipython",
    "version": 3
   },
   "file_extension": ".py",
   "mimetype": "text/x-python",
   "name": "python",
   "nbconvert_exporter": "python",
   "pygments_lexer": "ipython3",
   "version": "3.9.10"
  },
  "toc": {
   "base_numbering": 1,
   "nav_menu": {},
   "number_sections": true,
   "sideBar": true,
   "skip_h1_title": false,
   "title_cell": "Table of Contents",
   "title_sidebar": "Contents",
   "toc_cell": false,
   "toc_position": {},
   "toc_section_display": true,
   "toc_window_display": false
  }
 },
 "nbformat": 4,
 "nbformat_minor": 5
}
