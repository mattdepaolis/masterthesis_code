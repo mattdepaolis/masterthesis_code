{
 "cells": [
  {
   "cell_type": "code",
   "execution_count": 11,
   "id": "fe932390",
   "metadata": {},
   "outputs": [],
   "source": [
    "#------------------------------------------------------------------------------------\n",
    "# filename: _deployment.ipynb\n",
    "# description: detects and estimates the surface of photovoltaic installations\n",
    "# Author: Matthias De Paolis\n",
    "# last updated: 12.05.23\n",
    "#------------------------------------------------------------------------------------\n",
    "import os\n",
    "import shutil\n",
    "from sklearn.model_selection import train_test_split\n",
    "\n",
    "RATIO = 0.2\n",
    "\n",
    "# Define paths\n",
    "source_folder = \"/workspace/_solar_project/yolo/datasets/background\"\n",
    "dest_folder_1 = \"/workspace/_solar_project/yolo/datasets/__data_pv_seg_1250_799__/images/train\"\n",
    "dest_folder_2 = \"/workspace/_solar_project/yolo/datasets/__data_pv_seg_1250_799__/images/val\"\n",
    "\n",
    "# Create folders if they don't exist\n",
    "os.makedirs(dest_folder_1, exist_ok=True)\n",
    "os.makedirs(dest_folder_2, exist_ok=True)\n",
    "\n",
    "# Get images from the source_folder\n",
    "source_files = [f for f in os.listdir(source_folder) if f.endswith('.png') or f.endswith('.jpg')]\n",
    "\n",
    "# Split into two sets based on predefined ratio\n",
    "dest_1_files, dest_2_files = train_test_split(source_files, test_size=RATIO, random_state=42)\n",
    "\n",
    "# copy files\n",
    "def copy_files(files, source_folder, dest_folder):\n",
    "    for file in files:\n",
    "        shutil.copy(os.path.join(source_folder, file), os.path.join(dest_folder, file))\n",
    "\n",
    "# Copy files\n",
    "copy_files(dest_1_files, source_folder, dest_folder_1)\n",
    "copy_files(dest_2_files, source_folder, dest_folder_2)"
   ]
  }
 ],
 "metadata": {
  "kernelspec": {
   "display_name": "Python 3 (ipykernel)",
   "language": "python",
   "name": "python3"
  },
  "language_info": {
   "codemirror_mode": {
    "name": "ipython",
    "version": 3
   },
   "file_extension": ".py",
   "mimetype": "text/x-python",
   "name": "python",
   "nbconvert_exporter": "python",
   "pygments_lexer": "ipython3",
   "version": "3.9.10"
  },
  "toc": {
   "base_numbering": 1,
   "nav_menu": {},
   "number_sections": true,
   "sideBar": true,
   "skip_h1_title": false,
   "title_cell": "Table of Contents",
   "title_sidebar": "Contents",
   "toc_cell": false,
   "toc_position": {},
   "toc_section_display": true,
   "toc_window_display": false
  }
 },
 "nbformat": 4,
 "nbformat_minor": 5
}
