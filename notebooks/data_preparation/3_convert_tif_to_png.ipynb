{
 "cells": [
  {
   "cell_type": "code",
   "execution_count": null,
   "id": "50db33d2",
   "metadata": {},
   "outputs": [],
   "source": [
    "#------------------------------------------------------------------------------------\n",
    "# filename: 3_convert_tif_to_png.ipynb\n",
    "# description: convert images in tiff format to png format\n",
    "# Author: Matthias De Paolis\n",
    "# last updated: 14.2.23\n",
    "#------------------------------------------------------------------------------------\n",
    "from PIL import Image\n",
    "import os\n",
    "\n",
    "Image.MAX_IMAGE_PIXELS = None\n",
    "\n",
    "path= \"D:\\\\Mac OS\\\\raw_images\\\\rgb_images\"\n",
    "input_folder =r'{}'.format(path)\n",
    "path = \"D:\\\\Mac OS\\\\raw_images\\\\rgb_images_png\"\n",
    "output_folder = r'{}'.format(path)\n",
    "\n",
    "if not os.path.exists(output_folder):\n",
    "    os.makedirs(output_folder)\n",
    "\n",
    "for filename in os.listdir(input_folder):\n",
    "    if filename.endswith(\".tif\"):\n",
    "        # Open the TIF file \n",
    "        with Image.open(os.path.join(input_folder, filename)) as im:\n",
    "            # Convert image to RGBA mode if it's in RGBX mode\n",
    "            if im.mode == 'RGBX':\n",
    "                im = im.convert('RGBA')\n",
    "            \n",
    "            # create the output file path and save as PNG image\n",
    "            output_path = os.path.join(output_folder, os.path.splitext(filename)[0] + \".png\")\n",
    "            im.save(output_path)"
   ]
  }
 ],
 "metadata": {
  "kernelspec": {
   "display_name": "Python 3 (ipykernel)",
   "language": "python",
   "name": "python3"
  },
  "language_info": {
   "codemirror_mode": {
    "name": "ipython",
    "version": 3
   },
   "file_extension": ".py",
   "mimetype": "text/x-python",
   "name": "python",
   "nbconvert_exporter": "python",
   "pygments_lexer": "ipython3",
   "version": "3.9.10"
  },
  "toc": {
   "base_numbering": 1,
   "nav_menu": {},
   "number_sections": true,
   "sideBar": true,
   "skip_h1_title": false,
   "title_cell": "Table of Contents",
   "title_sidebar": "Contents",
   "toc_cell": false,
   "toc_position": {},
   "toc_section_display": true,
   "toc_window_display": false
  }
 },
 "nbformat": 4,
 "nbformat_minor": 5
}
